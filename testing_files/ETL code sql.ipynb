{
 "cells": [
  {
   "cell_type": "code",
   "execution_count": 1,
   "id": "98f0b952",
   "metadata": {},
   "outputs": [
    {
     "name": "stderr",
     "output_type": "stream",
     "text": [
      "23/11/25 16:14:04 WARN Utils: Your hostname, me-virtual-machine resolves to a loopback address: 127.0.1.1; using 192.168.42.129 instead (on interface ens33)\n",
      "23/11/25 16:14:04 WARN Utils: Set SPARK_LOCAL_IP if you need to bind to another address\n",
      "Setting default log level to \"WARN\".\n",
      "To adjust logging level use sc.setLogLevel(newLevel). For SparkR, use setLogLevel(newLevel).\n",
      "23/11/25 16:14:05 WARN NativeCodeLoader: Unable to load native-hadoop library for your platform... using builtin-java classes where applicable\n",
      "23/11/25 16:14:08 WARN Utils: Service 'SparkUI' could not bind on port 4040. Attempting port 4041.\n"
     ]
    }
   ],
   "source": [
    "from pyspark import SparkContext\n",
    "sc = SparkContext(\"local\", \"MyApp\")"
   ]
  },
  {
   "cell_type": "code",
   "execution_count": 16,
   "id": "6903c38d",
   "metadata": {},
   "outputs": [],
   "source": [
    "# Create the SparkSession\n",
    "from pyspark.sql import SparkSession\n",
    "\n",
    "spark = SparkSession.builder.master(\"local[1]\") \\\n",
    "                    .appName('Shipment data ETL') \\\n",
    "                    .getOrCreate()"
   ]
  },
  {
   "cell_type": "code",
   "execution_count": 60,
   "id": "543a316e",
   "metadata": {},
   "outputs": [
    {
     "name": "stdout",
     "output_type": "stream",
     "text": [
      "root\n",
      " |-- Id: integer (nullable = true)\n",
      " |-- Gender: string (nullable = true)\n",
      " |-- Age: integer (nullable = true)\n",
      "\n",
      "root\n",
      " |-- ShipmentID: integer (nullable = true)\n",
      " |-- Warehouse_block: string (nullable = true)\n",
      " |-- Mode_of_Shipment: string (nullable = true)\n",
      " |-- Customer_care_calls: integer (nullable = true)\n",
      " |-- Customer_rating: integer (nullable = true)\n",
      " |-- Cost_of_the_Product: integer (nullable = true)\n",
      " |-- Product_importance: string (nullable = true)\n",
      " |-- Gender: string (nullable = true)\n",
      " |-- Discount_offered: integer (nullable = true)\n",
      " |-- Weight_in_gms: integer (nullable = true)\n",
      " |-- Reached_ontime: integer (nullable = true)\n",
      " |-- Customer_id: integer (nullable = true)\n",
      " |-- Delivery_start: date (nullable = true)\n",
      " |-- Delivery_end: date (nullable = true)\n",
      "\n"
     ]
    }
   ],
   "source": [
    "df_customers = spark.read.csv('Customers.csv', header=True, inferSchema=True)\n",
    "df_shipments = spark.read.csv('Shipments.csv', header=True, inferSchema=True)\n",
    "df_shipments = df_shipments.withColumnRenamed(\"Reached.on.Time_Y.N\",\"Reached_ontime\")\n",
    "df_customers.printSchema()\n",
    "df_shipments.printSchema()"
   ]
  },
  {
   "cell_type": "code",
   "execution_count": 42,
   "id": "f7529e7e",
   "metadata": {},
   "outputs": [
    {
     "name": "stdout",
     "output_type": "stream",
     "text": [
      "(10999, 14)\n"
     ]
    }
   ],
   "source": [
    "print((df_shipments.count(), len(df_shipments.columns)))"
   ]
  },
  {
   "cell_type": "code",
   "execution_count": 41,
   "id": "8f326dc6",
   "metadata": {},
   "outputs": [
    {
     "name": "stdout",
     "output_type": "stream",
     "text": [
      "(500, 3)\n"
     ]
    }
   ],
   "source": [
    "print((df_customers.count(), len(df_customers.columns)))"
   ]
  },
  {
   "cell_type": "code",
   "execution_count": 61,
   "id": "a3dc728c",
   "metadata": {},
   "outputs": [],
   "source": [
    "# cleaning operation on shipments\n",
    "df_shipments = df_shipments.filter(df_shipments.Cost_of_the_Product>0)"
   ]
  },
  {
   "cell_type": "code",
   "execution_count": 62,
   "id": "0fe2f378",
   "metadata": {},
   "outputs": [],
   "source": [
    "# cleaning operations on customers\n",
    "df_customers = df_customers.filter((df_customers.Age>0) & (df_customers.Age<99))\n",
    "df_customers = df_customers.filter(df_customers.Gender.isin(['M', 'F']))"
   ]
  },
  {
   "cell_type": "code",
   "execution_count": 88,
   "id": "f33996ca",
   "metadata": {},
   "outputs": [
    {
     "name": "stderr",
     "output_type": "stream",
     "text": [
      "23/11/25 17:34:22 WARN CacheManager: Asked to cache already cached data.\n",
      "23/11/25 17:34:22 WARN CacheManager: Asked to cache already cached data.\n"
     ]
    }
   ],
   "source": [
    "# cache dataframes for repeated use\n",
    "df_shipments.cache()\n",
    "df_customers.cache()\n",
    "\n",
    "df_shipments.createOrReplaceTempView('shipments')\n",
    "df_customers.createOrReplaceTempView('customers')"
   ]
  },
  {
   "cell_type": "code",
   "execution_count": 66,
   "id": "67f1bd04",
   "metadata": {},
   "outputs": [
    {
     "name": "stdout",
     "output_type": "stream",
     "text": [
      "+--------------+-------------------+------------------+\n",
      "|WarehouseBlock|TotalEarlyShipments|TotalLateShipments|\n",
      "+--------------+-------------------+------------------+\n",
      "|             F|               2194|              1472|\n",
      "|             B|               1104|               729|\n",
      "|             D|               1096|               738|\n",
      "|             C|               1094|               739|\n",
      "|             A|               1075|               758|\n",
      "+--------------+-------------------+------------------+\n",
      "\n"
     ]
    }
   ],
   "source": [
    "# WarehouseBlockDim table\n",
    "\n",
    "WarehouseBlockDim = spark.sql(\n",
    "    \"\"\"\n",
    "    select\n",
    "    Warehouse_block as WarehouseBlock,\n",
    "    sum\n",
    "    (\n",
    "    case \n",
    "        when Reached_ontime = 1 then 1\n",
    "        else 0\n",
    "    end\n",
    "    ) as TotalEarlyShipments,\n",
    "    sum\n",
    "    (\n",
    "    case \n",
    "        when Reached_ontime = 0 then 1\n",
    "        else 0\n",
    "    end\n",
    "    ) as TotalLateShipments\n",
    "    from shipments\n",
    "    group by Warehouse_block\n",
    "    \"\"\"\n",
    ")\n",
    "WarehouseBlockDim.show()"
   ]
  },
  {
   "cell_type": "code",
   "execution_count": 87,
   "id": "456b652f",
   "metadata": {},
   "outputs": [
    {
     "name": "stdout",
     "output_type": "stream",
     "text": [
      "+----+-----+--------------------+------------------+------------------+\n",
      "|Year|Month|TotalFlightShipments|TotalShipShipments|TotalRoadShipments|\n",
      "+----+-----+--------------------+------------------+------------------+\n",
      "|2022|   10|                 163|               663|               143|\n",
      "|2022|    2|                 128|               555|               149|\n",
      "|2022|    7|                 155|               654|               154|\n",
      "|2022|   11|                 146|               621|               137|\n",
      "|2022|    3|                 144|               649|               147|\n",
      "|2022|    1|                 140|               636|               149|\n",
      "|2022|    5|                 158|               617|               150|\n",
      "|2022|    6|                 149|               622|               135|\n",
      "|2022|    9|                 149|               654|               150|\n",
      "|2022|    4|                 139|               566|               133|\n",
      "|2022|   12|                 133|               596|               148|\n",
      "|2022|    8|                 173|               629|               165|\n",
      "+----+-----+--------------------+------------------+------------------+\n",
      "\n"
     ]
    }
   ],
   "source": [
    "# ShipmentEmbarkMonth table\n",
    "WarehouseBlockDim = spark.sql(\n",
    "    \"\"\"\n",
    "    select\n",
    "    year(Delivery_start) as Year,\n",
    "    month(Delivery_start) as Month,\n",
    "    sum\n",
    "    (\n",
    "    case\n",
    "        when Mode_of_Shipment = 'Flight' then 1\n",
    "        else 0\n",
    "    end\n",
    "    ) as TotalFlightShipments,\n",
    "    sum\n",
    "    (\n",
    "    case\n",
    "        when Mode_of_Shipment = 'Ship' then 1\n",
    "        else 0\n",
    "    end\n",
    "    ) as TotalShipShipments,\n",
    "    sum\n",
    "    (\n",
    "    case\n",
    "        when Mode_of_Shipment = 'Road' then 1\n",
    "        else 0\n",
    "    end\n",
    "    ) as TotalRoadShipments\n",
    "    \n",
    "    from shipments\n",
    "    group by Year, Month\n",
    "    \"\"\"\n",
    ")\n",
    "WarehouseBlockDim.show()"
   ]
  },
  {
   "cell_type": "code",
   "execution_count": 98,
   "id": "7e771788",
   "metadata": {},
   "outputs": [
    {
     "name": "stdout",
     "output_type": "stream",
     "text": [
      "+----------+---------------+----------------+-------------------+---------------+-------------------+------------------+------+----------------+-------------+--------------+-----------+--------------+------------+---+\n",
      "|ShipmentID|Warehouse_block|Mode_of_Shipment|Customer_care_calls|Customer_rating|Cost_of_the_Product|Product_importance|Gender|Discount_offered|Weight_in_gms|Reached_ontime|Customer_id|Delivery_start|Delivery_end|age|\n",
      "+----------+---------------+----------------+-------------------+---------------+-------------------+------------------+------+----------------+-------------+--------------+-----------+--------------+------------+---+\n",
      "|         1|              D|          Flight|                  4|              2|                177|               low|     F|              44|         1233|             1|        403|    2022-05-18|  2022-06-12| 47|\n",
      "+----------+---------------+----------------+-------------------+---------------+-------------------+------------------+------+----------------+-------------+--------------+-----------+--------------+------------+---+\n",
      "only showing top 1 row\n",
      "\n"
     ]
    }
   ],
   "source": [
    "shipment_customer = spark.sql(\n",
    "    \"\"\"\n",
    "    select \n",
    "    s.*,\n",
    "    c.age\n",
    "    from shipments as s left join customers as c\n",
    "    on s.Customer_id = c.id\n",
    "    \"\"\"\n",
    ")\n",
    "shipment_customer.show(1)\n",
    "shipment_customer.cache()\n",
    "shipment_customer.createOrReplaceTempView('shipment_customer')"
   ]
  },
  {
   "cell_type": "code",
   "execution_count": 97,
   "id": "816e28ad",
   "metadata": {},
   "outputs": [
    {
     "name": "stdout",
     "output_type": "stream",
     "text": [
      "+--------------+-------------------+------------------+\n",
      "|ModeOfShipment|TotalEarlyShipments|TotalLateShipments|\n",
      "+--------------+-------------------+------------------+\n",
      "|          Road|               1035|               725|\n",
      "|          Ship|               4459|              3003|\n",
      "|        Flight|               1069|               708|\n",
      "+--------------+-------------------+------------------+\n",
      "\n"
     ]
    }
   ],
   "source": [
    "# ShipmentModeDim\n",
    "ShipmentModeDim = spark.sql(\n",
    "    \"\"\"\n",
    "    select\n",
    "    Mode_of_Shipment as ModeOfShipment,\n",
    "    sum\n",
    "    (\n",
    "    case \n",
    "        when Reached_ontime = 1 then 1\n",
    "        else 0\n",
    "    end\n",
    "    ) as TotalEarlyShipments,\n",
    "    sum\n",
    "    (\n",
    "    case \n",
    "        when Reached_ontime = 0 then 1\n",
    "        else 0\n",
    "    end\n",
    "    ) as TotalLateShipments\n",
    "    from shipment_customer\n",
    "    group by ModeOfShipment\n",
    "    \"\"\"\n",
    ")\n",
    "ShipmentModeDim.show()"
   ]
  },
  {
   "cell_type": "code",
   "execution_count": 101,
   "id": "5e8d793f",
   "metadata": {
    "scrolled": true
   },
   "outputs": [
    {
     "name": "stderr",
     "output_type": "stream",
     "text": [
      "\r",
      "[Stage 126:>                                                        (0 + 1) / 1]\r"
     ]
    },
    {
     "name": "stdout",
     "output_type": "stream",
     "text": [
      "+----------+------+---+-----------------+------------------+--------------+\n",
      "|CustomerID|Gender|Age|         AvgCalls|       AvgRaRating|TotalPurchases|\n",
      "+----------+------+---+-----------------+------------------+--------------+\n",
      "|       260|     M| 31|4.071428571428571|3.2857142857142856|            14|\n",
      "|       253|     M| 25|              4.0|              2.25|            12|\n",
      "|       117|     M| 19|4.076923076923077| 3.230769230769231|            13|\n",
      "|       423|     F| 46|              5.0|             3.125|             8|\n",
      "|       407|     M| 23|4.285714285714286|2.9285714285714284|            14|\n",
      "|        65|     M| 35|            4.625|               3.0|             8|\n",
      "|       375|     F| 35|4.111111111111111|               2.0|             9|\n",
      "|       297|     M| 30|4.176470588235294|3.2941176470588234|            17|\n",
      "|       163|     M| 27|              3.8|               2.0|             5|\n",
      "|       335|     M| 40|              4.0|3.8181818181818183|            11|\n",
      "+----------+------+---+-----------------+------------------+--------------+\n",
      "only showing top 10 rows\n",
      "\n"
     ]
    },
    {
     "name": "stderr",
     "output_type": "stream",
     "text": [
      "\r",
      "                                                                                \r"
     ]
    }
   ],
   "source": [
    "#CustomerDim\n",
    "CustomerDim = spark.sql(\n",
    "    \"\"\"\n",
    "    select\n",
    "    Customer_id as CustomerID,\n",
    "    Gender,\n",
    "    age as Age,\n",
    "    avg(Customer_care_calls) as AvgCalls,\n",
    "    avg(Customer_rating) as AvgRaRating,\n",
    "    count(*) as TotalPurchases\n",
    "    from shipment_customer\n",
    "    group by CustomerID, Gender, age\n",
    "    \"\"\"\n",
    ")\n",
    "CustomerDim.show(10)"
   ]
  },
  {
   "cell_type": "code",
   "execution_count": 108,
   "id": "c6af42ee",
   "metadata": {
    "scrolled": true
   },
   "outputs": [
    {
     "name": "stdout",
     "output_type": "stream",
     "text": [
      "+----------+----------+--------------+--------------+-----------------+--------------+----+-----------------+---------------+-------------+-----------------+---------------+-------------+\n",
      "|ShipmentId|CustomerID|WarehouseBlock|ModeOfShipment|CustomerCareCalls|CustomerRating|Cost|ProductImportance|DiscountOffered|WeightInGrams|ShipmentStartDate|ShipmentEndDate|ReachedOnTime|\n",
      "+----------+----------+--------------+--------------+-----------------+--------------+----+-----------------+---------------+-------------+-----------------+---------------+-------------+\n",
      "|         1|       403|             D|        Flight|                4|             2| 177|              low|             44|         1233|       2022-05-18|     2022-06-12|            1|\n",
      "|         2|       430|             F|        Flight|                4|             5| 216|              low|             59|         3088|       2022-10-17|     2022-11-07|            1|\n",
      "|         3|        34|             A|        Flight|                2|             2| 183|              low|             48|         3374|       2022-10-31|     2022-12-03|            1|\n",
      "|         4|       230|             B|        Flight|                3|             3| 176|           medium|             10|         1177|       2022-11-16|     2022-12-18|            1|\n",
      "|         5|       356|             C|        Flight|                2|             2| 184|           medium|             46|         2484|       2022-02-20|     2022-04-01|            1|\n",
      "|         6|       185|             F|        Flight|                3|             1| 162|           medium|             12|         1417|       2022-07-20|     2022-08-14|            1|\n",
      "|         7|       113|             D|        Flight|                3|             4| 250|              low|              3|         2371|       2022-10-28|     2022-11-09|            1|\n",
      "|         8|       257|             F|        Flight|                4|             1| 233|              low|             48|         2804|       2022-11-04|     2022-11-28|            1|\n",
      "|         9|        73|             A|        Flight|                3|             4| 150|              low|             11|         1861|       2022-04-01|     2022-04-24|            1|\n",
      "|        10|       137|             B|        Flight|                3|             2| 164|           medium|             29|         1187|       2022-10-21|     2022-11-15|            1|\n",
      "+----------+----------+--------------+--------------+-----------------+--------------+----+-----------------+---------------+-------------+-----------------+---------------+-------------+\n",
      "only showing top 10 rows\n",
      "\n"
     ]
    }
   ],
   "source": [
    "# Shipment table\n",
    "Shipment = spark.sql(\n",
    "    \"\"\"\n",
    "    select \n",
    "    ShipmentId,\n",
    "    customer_id as CustomerID,\n",
    "    warehouse_block as WarehouseBlock,\n",
    "    mode_of_shipment as ModeOfShipment,\n",
    "    customer_care_calls as CustomerCareCalls,\n",
    "    Customer_rating as CustomerRating,\n",
    "    cost_of_the_product as Cost,\n",
    "    product_importance as ProductImportance,\n",
    "    discount_offered as DiscountOffered,\n",
    "    weight_in_gms as WeightInGrams,\n",
    "    delivery_start as ShipmentStartDate,\n",
    "    delivery_end as ShipmentEndDate,\n",
    "    reached_ontime as ReachedOnTime\n",
    "    from shipment_customer\n",
    "    \"\"\"\n",
    ")\n",
    "Shipment.show(10)"
   ]
  },
  {
   "cell_type": "code",
   "execution_count": null,
   "id": "e0682ba1",
   "metadata": {},
   "outputs": [],
   "source": []
  }
 ],
 "metadata": {
  "kernelspec": {
   "display_name": "Python 3 (ipykernel)",
   "language": "python",
   "name": "python3"
  },
  "language_info": {
   "codemirror_mode": {
    "name": "ipython",
    "version": 3
   },
   "file_extension": ".py",
   "mimetype": "text/x-python",
   "name": "python",
   "nbconvert_exporter": "python",
   "pygments_lexer": "ipython3",
   "version": "3.11.4"
  }
 },
 "nbformat": 4,
 "nbformat_minor": 5
}
